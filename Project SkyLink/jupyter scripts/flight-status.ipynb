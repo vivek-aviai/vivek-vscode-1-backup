{
 "cells": [
  {
   "cell_type": "code",
   "execution_count": 39,
   "id": "387a82ac",
   "metadata": {},
   "outputs": [],
   "source": [
    "from amadeus import Client, ResponseError\n",
    "import json"
   ]
  },
  {
   "cell_type": "code",
   "execution_count": 40,
   "id": "8fca325a",
   "metadata": {},
   "outputs": [],
   "source": [
    "amadeus = Client(\n",
    "    client_id='8sx1oZkudCcbk69JyO4Mec7dIg9HyxPW',\n",
    "    client_secret='wJpipuXGV1g16AAk'\n",
    ")"
   ]
  },
  {
   "cell_type": "code",
   "execution_count": 42,
   "id": "3cfbcb71",
   "metadata": {},
   "outputs": [
    {
     "name": "stdout",
     "output_type": "stream",
     "text": [
      "[{'type': 'DatedFlight', 'scheduledDepartureDate': '2023-02-22', 'flightDesignator': {'carrierCode': 'UA', 'flightNumber': 59}, 'flightPoints': [{'iataCode': 'FRA', 'departure': {'timings': [{'qualifier': 'STD', 'value': '2023-02-22T12:50+01:00'}]}}, {'iataCode': 'SFO', 'arrival': {'timings': [{'qualifier': 'STA', 'value': '2023-02-22T15:30-08:00'}]}}], 'segments': [{'boardPointIataCode': 'FRA', 'offPointIataCode': 'SFO', 'scheduledSegmentDuration': 'PT11H40M', 'partnership': {'operatingFlight': {'carrierCode': 'AC', 'flightNumber': 5961}}}], 'legs': [{'boardPointIataCode': 'FRA', 'offPointIataCode': 'SFO', 'aircraftEquipment': {'aircraftType': '77W'}, 'scheduledLegDuration': 'PT11H40M'}]}]\n"
     ]
    },
    {
     "ename": "TypeError",
     "evalue": "the JSON object must be str, bytes or bytearray, not list",
     "output_type": "error",
     "traceback": [
      "\u001b[0;31m---------------------------------------------------------------------------\u001b[0m",
      "\u001b[0;31mTypeError\u001b[0m                                 Traceback (most recent call last)",
      "\u001b[0;32m/var/folders/8b/skysr6v933zbhg62hz_pkych0000gn/T/ipykernel_46490/4262317920.py\u001b[0m in \u001b[0;36m<module>\u001b[0;34m\u001b[0m\n\u001b[1;32m      4\u001b[0m                                             scheduledDepartureDate='2023-02-22')\n\u001b[1;32m      5\u001b[0m     \u001b[0mprint\u001b[0m\u001b[0;34m(\u001b[0m\u001b[0mresponse\u001b[0m\u001b[0;34m.\u001b[0m\u001b[0mdata\u001b[0m\u001b[0;34m)\u001b[0m\u001b[0;34m\u001b[0m\u001b[0;34m\u001b[0m\u001b[0m\n\u001b[0;32m----> 6\u001b[0;31m     \u001b[0mparsed\u001b[0m \u001b[0;34m=\u001b[0m \u001b[0mjson\u001b[0m\u001b[0;34m.\u001b[0m\u001b[0mloads\u001b[0m\u001b[0;34m(\u001b[0m\u001b[0mresponse\u001b[0m\u001b[0;34m.\u001b[0m\u001b[0mdata\u001b[0m\u001b[0;34m)\u001b[0m\u001b[0;34m\u001b[0m\u001b[0;34m\u001b[0m\u001b[0m\n\u001b[0m\u001b[1;32m      7\u001b[0m     \u001b[0mprint\u001b[0m\u001b[0;34m(\u001b[0m\u001b[0mjson\u001b[0m\u001b[0;34m.\u001b[0m\u001b[0mdumps\u001b[0m\u001b[0;34m(\u001b[0m\u001b[0mparsed\u001b[0m\u001b[0;34m,\u001b[0m \u001b[0mindent\u001b[0m\u001b[0;34m=\u001b[0m\u001b[0;36m4\u001b[0m\u001b[0;34m)\u001b[0m\u001b[0;34m)\u001b[0m\u001b[0;34m\u001b[0m\u001b[0;34m\u001b[0m\u001b[0m\n\u001b[1;32m      8\u001b[0m \u001b[0;34m\u001b[0m\u001b[0m\n",
      "\u001b[0;32m~/opt/anaconda3/lib/python3.9/json/__init__.py\u001b[0m in \u001b[0;36mloads\u001b[0;34m(s, cls, object_hook, parse_float, parse_int, parse_constant, object_pairs_hook, **kw)\u001b[0m\n\u001b[1;32m    337\u001b[0m     \u001b[0;32melse\u001b[0m\u001b[0;34m:\u001b[0m\u001b[0;34m\u001b[0m\u001b[0;34m\u001b[0m\u001b[0m\n\u001b[1;32m    338\u001b[0m         \u001b[0;32mif\u001b[0m \u001b[0;32mnot\u001b[0m \u001b[0misinstance\u001b[0m\u001b[0;34m(\u001b[0m\u001b[0ms\u001b[0m\u001b[0;34m,\u001b[0m \u001b[0;34m(\u001b[0m\u001b[0mbytes\u001b[0m\u001b[0;34m,\u001b[0m \u001b[0mbytearray\u001b[0m\u001b[0;34m)\u001b[0m\u001b[0;34m)\u001b[0m\u001b[0;34m:\u001b[0m\u001b[0;34m\u001b[0m\u001b[0;34m\u001b[0m\u001b[0m\n\u001b[0;32m--> 339\u001b[0;31m             raise TypeError(f'the JSON object must be str, bytes or bytearray, '\n\u001b[0m\u001b[1;32m    340\u001b[0m                             f'not {s.__class__.__name__}')\n\u001b[1;32m    341\u001b[0m         \u001b[0ms\u001b[0m \u001b[0;34m=\u001b[0m \u001b[0ms\u001b[0m\u001b[0;34m.\u001b[0m\u001b[0mdecode\u001b[0m\u001b[0;34m(\u001b[0m\u001b[0mdetect_encoding\u001b[0m\u001b[0;34m(\u001b[0m\u001b[0ms\u001b[0m\u001b[0;34m)\u001b[0m\u001b[0;34m,\u001b[0m \u001b[0;34m'surrogatepass'\u001b[0m\u001b[0;34m)\u001b[0m\u001b[0;34m\u001b[0m\u001b[0;34m\u001b[0m\u001b[0m\n",
      "\u001b[0;31mTypeError\u001b[0m: the JSON object must be str, bytes or bytearray, not list"
     ]
    }
   ],
   "source": [
    "try:\n",
    "    response = amadeus.schedule.flights.get(carrierCode='UA',\n",
    "                                            flightNumber='59',\n",
    "                                            scheduledDepartureDate='2023-02-22')\n",
    "    print(response.data)\n",
    "    parsed = json.loads(response.data)\n",
    "    print(json.dumps(parsed, indent=4))\n",
    "    \n",
    "except ResponseError as error:\n",
    "    raise error"
   ]
  },
  {
   "cell_type": "code",
   "execution_count": null,
   "id": "0b376b84",
   "metadata": {},
   "outputs": [],
   "source": [
    "\"response.data\"[\n",
    "    {\n",
    "        \"type\":\"DatedFlight\",\n",
    "        \"scheduledDepartureDate\":\"2023-02-22\",\n",
    "        \"flightDesignator\":{\n",
    "            \"carrierCode\":\"UA\",\n",
    "            \"flightNumber\":59\n",
    "        },\n",
    "        \"flightPoints\":[\n",
    "            {\n",
    "                \"iataCode\":\"FRA\",\n",
    "                \"departure\":{\n",
    "                    \"timings\":[\n",
    "                        {\n",
    "                            \"qualifier\":\"STD\",\n",
    "                            \"value\":\"2023-02-22T12:50+01:00\"\n",
    "                        }\n",
    "                    ]\n",
    "                }\n",
    "            },\n",
    "            {\n",
    "                \"iataCode\":\"SFO\",\n",
    "                \"arrival\":{\n",
    "                    \"timings\":[\n",
    "                        {\n",
    "                            \"qualifier\":\"STA\",\n",
    "                            \"value\":\"2023-02-22T15:30-08:00\"\n",
    "                        }\n",
    "                    ]\n",
    "                }\n",
    "            }\n",
    "        ],\n",
    "        \"segments\":[\n",
    "            {\n",
    "                \"boardPointIataCode\":\"FRA\",\n",
    "                \"offPointIataCode\":\"SFO\",\n",
    "                \"scheduledSegmentDuration\":\"PT11H40M\",\n",
    "                \"partnership\":{\n",
    "                    \"operatingFlight\":{\n",
    "                        \"carrierCode\":\"AC\",\n",
    "                        \"flightNumber\":5961\n",
    "                    }\n",
    "                }\n",
    "            }\n",
    "        ],\n",
    "        \"legs\":[\n",
    "            {\n",
    "                \"boardPointIataCode\":\"FRA\",\n",
    "                \"offPointIataCode\":\"SFO\",\n",
    "                \"aircraftEquipment\":{\n",
    "                    \"aircraftType\":\"77W\"\n",
    "                },\n",
    "                \"scheduledLegDuration\":\"PT11H40M\"\n",
    "            }\n",
    "        ]\n",
    "    }\n",
    "]"
   ]
  }
 ],
 "metadata": {
  "kernelspec": {
   "display_name": "Python 3 (ipykernel)",
   "language": "python",
   "name": "python3"
  },
  "language_info": {
   "codemirror_mode": {
    "name": "ipython",
    "version": 3
   },
   "file_extension": ".py",
   "mimetype": "text/x-python",
   "name": "python",
   "nbconvert_exporter": "python",
   "pygments_lexer": "ipython3",
   "version": "3.9.13"
  }
 },
 "nbformat": 4,
 "nbformat_minor": 5
}
